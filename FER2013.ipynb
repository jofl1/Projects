{
 "cells": [
  {
   "cell_type": "code",
   "execution_count": 4,
   "metadata": {},
   "outputs": [
    {
     "name": "stdout",
     "output_type": "stream",
     "text": [
      "Training directory: /Users/joshfleming/Python/archive/train\n",
      "Testing directory: /Users/joshfleming/Python/archive/test\n"
     ]
    }
   ],
   "source": [
    "import os\n",
    "import numpy as np\n",
    "import matplotlib.pyplot as plt\n",
    "import tensorflow as tf\n",
    "from tensorflow.keras import mixed_precision\n",
    "\n",
    "mixed_precision.set_global_policy('mixed_float16')\n",
    "\n",
    "img_width, img_height = 48, 48  \n",
    "batch_size = 64\n",
    "\n",
    "base_dir = os.path.expanduser(\"~/Python/archive\")\n",
    "train_dir = os.path.join(base_dir, \"train\")\n",
    "test_dir = os.path.join(base_dir, \"test\")\n",
    "\n",
    "print(\"Training directory:\", train_dir)\n",
    "print(\"Testing directory:\", test_dir)\n"
   ]
  },
  {
   "cell_type": "code",
   "execution_count": 5,
   "metadata": {},
   "outputs": [
    {
     "name": "stdout",
     "output_type": "stream",
     "text": [
      "Found 28709 images belonging to 7 classes.\n",
      "Found 7178 images belonging to 7 classes.\n",
      "Class Indices: {'angry': 0, 'disgust': 1, 'fear': 2, 'happy': 3, 'neutral': 4, 'sad': 5, 'surprise': 6}\n"
     ]
    }
   ],
   "source": [
    "from tensorflow.keras.preprocessing.image import ImageDataGenerator\n",
    "\n",
    "train_datagen = ImageDataGenerator(\n",
    "    rescale=1./255,\n",
    "    rotation_range=10,\n",
    "    width_shift_range=0.1,\n",
    "    height_shift_range=0.1,\n",
    "    shear_range=0.1,\n",
    "    zoom_range=0.1,\n",
    "    horizontal_flip=True\n",
    ")\n",
    "\n",
    "test_datagen = ImageDataGenerator(rescale=1./255)\n",
    "\n",
    "train_generator = train_datagen.flow_from_directory(\n",
    "    train_dir,\n",
    "    target_size=(img_width, img_height),\n",
    "    color_mode='rgb',           \n",
    "    batch_size=batch_size,\n",
    "    class_mode='categorical',   \n",
    "    shuffle=True\n",
    ")\n",
    "\n",
    "test_generator = test_datagen.flow_from_directory(\n",
    "    test_dir,\n",
    "    target_size=(img_width, img_height),\n",
    "    color_mode='rgb',\n",
    "    batch_size=batch_size,\n",
    "    class_mode='categorical',\n",
    "    shuffle=False\n",
    ")\n",
    "\n",
    "print(\"Class Indices:\", train_generator.class_indices)\n"
   ]
  },
  {
   "cell_type": "code",
   "execution_count": 6,
   "metadata": {},
   "outputs": [
    {
     "name": "stderr",
     "output_type": "stream",
     "text": [
      "2025-02-04 09:41:11.071233: I metal_plugin/src/device/metal_device.cc:1154] Metal device set to: Apple M3 Pro\n",
      "2025-02-04 09:41:11.071267: I metal_plugin/src/device/metal_device.cc:296] systemMemory: 36.00 GB\n",
      "2025-02-04 09:41:11.071278: I metal_plugin/src/device/metal_device.cc:313] maxCacheSize: 13.50 GB\n",
      "2025-02-04 09:41:11.071308: I tensorflow/core/common_runtime/pluggable_device/pluggable_device_factory.cc:303] Could not identify NUMA node of platform GPU ID 0, defaulting to 0. Your kernel may not have been built with NUMA support.\n",
      "2025-02-04 09:41:11.071324: I tensorflow/core/common_runtime/pluggable_device/pluggable_device_factory.cc:269] Created TensorFlow device (/job:localhost/replica:0/task:0/device:GPU:0 with 0 MB memory) -> physical PluggableDevice (device: 0, name: METAL, pci bus id: <undefined>)\n"
     ]
    },
    {
     "name": "stdout",
     "output_type": "stream",
     "text": [
      "Model: \"sequential\"\n",
      "_________________________________________________________________\n",
      " Layer (type)                Output Shape              Param #   \n",
      "=================================================================\n",
      " resnet50 (Functional)       (None, 2, 2, 2048)        23587712  \n",
      "                                                                 \n",
      " global_average_pooling2d (  (None, 2048)              0         \n",
      " GlobalAveragePooling2D)                                         \n",
      "                                                                 \n",
      " dense (Dense)               (None, 128)               262272    \n",
      "                                                                 \n",
      " dropout (Dropout)           (None, 128)               0         \n",
      "                                                                 \n",
      " dense_1 (Dense)             (None, 7)                 903       \n",
      "                                                                 \n",
      "=================================================================\n",
      "Total params: 23850887 (90.98 MB)\n",
      "Trainable params: 263175 (1.00 MB)\n",
      "Non-trainable params: 23587712 (89.98 MB)\n",
      "_________________________________________________________________\n"
     ]
    }
   ],
   "source": [
    "from tensorflow.keras.models import Sequential\n",
    "from tensorflow.keras.layers import Dense, Dropout, GlobalAveragePooling2D\n",
    "from tensorflow.keras.applications import ResNet50\n",
    "\n",
    "num_classes = train_generator.num_classes\n",
    "\n",
    "base_model = ResNet50(weights='imagenet', include_top=False, input_shape=(img_width, img_height, 3))\n",
    "base_model.trainable = False  \n",
    "\n",
    "model = Sequential([\n",
    "    base_model,\n",
    "    GlobalAveragePooling2D(),\n",
    "    Dense(128, activation='relu'),\n",
    "    Dropout(0.5),\n",
    "    Dense(num_classes, activation='softmax', dtype='float32')\n",
    "])\n",
    "\n",
    "model.compile(optimizer='adam', loss='categorical_crossentropy', metrics=['accuracy'])\n",
    "model.summary()\n"
   ]
  },
  {
   "cell_type": "code",
   "execution_count": 7,
   "metadata": {},
   "outputs": [
    {
     "name": "stdout",
     "output_type": "stream",
     "text": [
      "Epoch 1/50\n"
     ]
    },
    {
     "name": "stderr",
     "output_type": "stream",
     "text": [
      "2025-02-04 09:42:09.625176: I tensorflow/core/grappler/optimizers/custom_graph_optimizer_registry.cc:114] Plugin optimizer for device_type GPU is enabled.\n"
     ]
    },
    {
     "name": "stdout",
     "output_type": "stream",
     "text": [
      "446/448 [============================>.] - ETA: 0s - loss: 2.1212 - accuracy: 0.1960"
     ]
    },
    {
     "name": "stderr",
     "output_type": "stream",
     "text": [
      "2025-02-04 09:42:22.284974: I tensorflow/core/grappler/optimizers/custom_graph_optimizer_registry.cc:114] Plugin optimizer for device_type GPU is enabled.\n"
     ]
    },
    {
     "name": "stdout",
     "output_type": "stream",
     "text": [
      "448/448 [==============================] - 17s 31ms/step - loss: 2.1200 - accuracy: 0.1962 - val_loss: 1.7889 - val_accuracy: 0.2510 - lr: 0.0010\n",
      "Epoch 2/50\n"
     ]
    },
    {
     "name": "stderr",
     "output_type": "stream",
     "text": [
      "/Users/joshfleming/tensorflow-test/env/lib/python3.8/site-packages/keras/src/engine/training.py:3000: UserWarning: You are saving your model as an HDF5 file via `model.save()`. This file format is considered legacy. We recommend using instead the native Keras format, e.g. `model.save('my_model.keras')`.\n",
      "  saving_api.save_model(\n"
     ]
    },
    {
     "name": "stdout",
     "output_type": "stream",
     "text": [
      "448/448 [==============================] - 13s 28ms/step - loss: 1.8573 - accuracy: 0.2254 - val_loss: 1.7906 - val_accuracy: 0.2540 - lr: 0.0010\n",
      "Epoch 3/50\n",
      "448/448 [==============================] - 13s 29ms/step - loss: 1.8289 - accuracy: 0.2377 - val_loss: 1.7748 - val_accuracy: 0.2620 - lr: 0.0010\n",
      "Epoch 4/50\n",
      "448/448 [==============================] - 13s 28ms/step - loss: 1.8248 - accuracy: 0.2396 - val_loss: 1.7748 - val_accuracy: 0.2683 - lr: 0.0010\n",
      "Epoch 5/50\n",
      "448/448 [==============================] - 13s 28ms/step - loss: 1.8058 - accuracy: 0.2473 - val_loss: 1.7784 - val_accuracy: 0.2467 - lr: 0.0010\n",
      "Epoch 6/50\n",
      "448/448 [==============================] - 13s 29ms/step - loss: 1.8100 - accuracy: 0.2454 - val_loss: 1.7574 - val_accuracy: 0.2718 - lr: 0.0010\n",
      "Epoch 7/50\n",
      "448/448 [==============================] - 13s 29ms/step - loss: 1.7966 - accuracy: 0.2563 - val_loss: 1.7533 - val_accuracy: 0.2860 - lr: 0.0010\n",
      "Epoch 8/50\n",
      "448/448 [==============================] - 13s 28ms/step - loss: 1.8016 - accuracy: 0.2511 - val_loss: 1.7808 - val_accuracy: 0.2585 - lr: 0.0010\n",
      "Epoch 9/50\n",
      "448/448 [==============================] - 13s 28ms/step - loss: 1.7913 - accuracy: 0.2537 - val_loss: 1.7687 - val_accuracy: 0.2665 - lr: 0.0010\n",
      "Epoch 10/50\n",
      "448/448 [==============================] - 13s 28ms/step - loss: 1.8108 - accuracy: 0.2525 - val_loss: 1.7729 - val_accuracy: 0.2828 - lr: 0.0010\n",
      "Epoch 11/50\n",
      "448/448 [==============================] - 13s 28ms/step - loss: 1.7920 - accuracy: 0.2602 - val_loss: 1.7680 - val_accuracy: 0.2811 - lr: 0.0010\n",
      "Epoch 12/50\n",
      "448/448 [==============================] - 13s 28ms/step - loss: 1.7868 - accuracy: 0.2635 - val_loss: 1.7747 - val_accuracy: 0.2624 - lr: 0.0010\n",
      "Epoch 13/50\n",
      "448/448 [==============================] - 41s 93ms/step - loss: 1.7680 - accuracy: 0.2725 - val_loss: 1.7687 - val_accuracy: 0.2859 - lr: 5.0000e-04\n",
      "Epoch 14/50\n",
      "448/448 [==============================] - 13s 29ms/step - loss: 1.7664 - accuracy: 0.2737 - val_loss: 1.7375 - val_accuracy: 0.2924 - lr: 5.0000e-04\n",
      "Epoch 15/50\n",
      "448/448 [==============================] - 13s 28ms/step - loss: 1.7638 - accuracy: 0.2762 - val_loss: 1.7505 - val_accuracy: 0.2867 - lr: 5.0000e-04\n",
      "Epoch 16/50\n",
      "448/448 [==============================] - 13s 29ms/step - loss: 1.7648 - accuracy: 0.2762 - val_loss: 1.7345 - val_accuracy: 0.2847 - lr: 5.0000e-04\n",
      "Epoch 17/50\n",
      "448/448 [==============================] - 13s 29ms/step - loss: 1.7657 - accuracy: 0.2756 - val_loss: 1.7341 - val_accuracy: 0.2931 - lr: 5.0000e-04\n",
      "Epoch 18/50\n",
      "448/448 [==============================] - 13s 28ms/step - loss: 1.7688 - accuracy: 0.2751 - val_loss: 1.7405 - val_accuracy: 0.2895 - lr: 5.0000e-04\n",
      "Epoch 19/50\n",
      "448/448 [==============================] - 13s 29ms/step - loss: 1.7669 - accuracy: 0.2749 - val_loss: 1.7289 - val_accuracy: 0.3001 - lr: 5.0000e-04\n",
      "Epoch 20/50\n",
      "448/448 [==============================] - 13s 28ms/step - loss: 1.7739 - accuracy: 0.2749 - val_loss: 1.7506 - val_accuracy: 0.2937 - lr: 5.0000e-04\n",
      "Epoch 21/50\n",
      "448/448 [==============================] - 13s 30ms/step - loss: 1.7658 - accuracy: 0.2779 - val_loss: 1.7235 - val_accuracy: 0.3016 - lr: 5.0000e-04\n",
      "Epoch 22/50\n",
      "448/448 [==============================] - 13s 29ms/step - loss: 1.7586 - accuracy: 0.2815 - val_loss: 1.7196 - val_accuracy: 0.2977 - lr: 5.0000e-04\n",
      "Epoch 23/50\n",
      "448/448 [==============================] - 13s 28ms/step - loss: 1.7618 - accuracy: 0.2772 - val_loss: 1.7384 - val_accuracy: 0.2931 - lr: 5.0000e-04\n",
      "Epoch 24/50\n",
      "448/448 [==============================] - 13s 28ms/step - loss: 1.7592 - accuracy: 0.2768 - val_loss: 1.7351 - val_accuracy: 0.2942 - lr: 5.0000e-04\n",
      "Epoch 25/50\n",
      "448/448 [==============================] - 13s 28ms/step - loss: 1.7585 - accuracy: 0.2809 - val_loss: 1.7218 - val_accuracy: 0.3020 - lr: 5.0000e-04\n",
      "Epoch 26/50\n",
      "448/448 [==============================] - 13s 28ms/step - loss: 1.7588 - accuracy: 0.2762 - val_loss: 1.7243 - val_accuracy: 0.3004 - lr: 5.0000e-04\n",
      "Epoch 27/50\n",
      "448/448 [==============================] - 13s 28ms/step - loss: 1.7588 - accuracy: 0.2827 - val_loss: 1.7201 - val_accuracy: 0.3041 - lr: 5.0000e-04\n",
      "Epoch 28/50\n",
      "448/448 [==============================] - 13s 29ms/step - loss: 1.7478 - accuracy: 0.2868 - val_loss: 1.7173 - val_accuracy: 0.3048 - lr: 2.5000e-04\n",
      "Epoch 29/50\n",
      "448/448 [==============================] - 13s 28ms/step - loss: 1.7550 - accuracy: 0.2856 - val_loss: 1.7173 - val_accuracy: 0.3001 - lr: 2.5000e-04\n",
      "Epoch 30/50\n",
      "448/448 [==============================] - 13s 28ms/step - loss: 1.7510 - accuracy: 0.2862 - val_loss: 1.7241 - val_accuracy: 0.3062 - lr: 2.5000e-04\n",
      "Epoch 31/50\n",
      "448/448 [==============================] - 13s 28ms/step - loss: 1.7458 - accuracy: 0.2872 - val_loss: 1.7221 - val_accuracy: 0.3051 - lr: 2.5000e-04\n",
      "Epoch 32/50\n",
      "448/448 [==============================] - 13s 28ms/step - loss: 1.7513 - accuracy: 0.2834 - val_loss: 1.7283 - val_accuracy: 0.3040 - lr: 2.5000e-04\n",
      "Epoch 33/50\n",
      "448/448 [==============================] - 13s 29ms/step - loss: 1.7459 - accuracy: 0.2894 - val_loss: 1.7118 - val_accuracy: 0.3058 - lr: 2.5000e-04\n",
      "Epoch 34/50\n",
      "448/448 [==============================] - 13s 28ms/step - loss: 1.7477 - accuracy: 0.2845 - val_loss: 1.7197 - val_accuracy: 0.3011 - lr: 2.5000e-04\n",
      "Epoch 35/50\n",
      "448/448 [==============================] - 13s 28ms/step - loss: 1.7456 - accuracy: 0.2888 - val_loss: 1.7148 - val_accuracy: 0.3069 - lr: 2.5000e-04\n",
      "Epoch 36/50\n",
      "448/448 [==============================] - 13s 29ms/step - loss: 1.7456 - accuracy: 0.2885 - val_loss: 1.7133 - val_accuracy: 0.3015 - lr: 2.5000e-04\n",
      "Epoch 37/50\n",
      "448/448 [==============================] - 13s 29ms/step - loss: 1.7425 - accuracy: 0.2877 - val_loss: 1.7154 - val_accuracy: 0.3061 - lr: 2.5000e-04\n",
      "Epoch 38/50\n",
      "448/448 [==============================] - 13s 28ms/step - loss: 1.7410 - accuracy: 0.2893 - val_loss: 1.7261 - val_accuracy: 0.3058 - lr: 2.5000e-04\n",
      "Epoch 39/50\n",
      "448/448 [==============================] - 13s 28ms/step - loss: 1.7436 - accuracy: 0.2897 - val_loss: 1.7182 - val_accuracy: 0.3131 - lr: 1.2500e-04\n",
      "Epoch 40/50\n",
      "448/448 [==============================] - 13s 28ms/step - loss: 1.7416 - accuracy: 0.2902 - val_loss: 1.7148 - val_accuracy: 0.3103 - lr: 1.2500e-04\n",
      "Epoch 41/50\n",
      "448/448 [==============================] - 13s 28ms/step - loss: 1.7368 - accuracy: 0.2940 - val_loss: 1.7207 - val_accuracy: 0.3065 - lr: 1.2500e-04\n",
      "Epoch 42/50\n",
      "448/448 [==============================] - 13s 28ms/step - loss: 1.7396 - accuracy: 0.2926 - val_loss: 1.7151 - val_accuracy: 0.3100 - lr: 1.2500e-04\n",
      "Epoch 43/50\n",
      "448/448 [==============================] - 13s 28ms/step - loss: 1.7369 - accuracy: 0.2970 - val_loss: 1.7157 - val_accuracy: 0.3100 - lr: 1.2500e-04\n"
     ]
    }
   ],
   "source": [
    "from tensorflow.keras.callbacks import EarlyStopping, ModelCheckpoint, ReduceLROnPlateau\n",
    "\n",
    "callbacks = [\n",
    "    EarlyStopping(monitor='val_loss', patience=10, restore_best_weights=True),\n",
    "    ModelCheckpoint('best_improved_model.h5', monitor='val_loss', save_best_only=True),\n",
    "    ReduceLROnPlateau(monitor='val_loss', factor=0.5, patience=5, min_lr=1e-6)\n",
    "]\n",
    "\n",
    "epochs = 50\n",
    "\n",
    "history = model.fit(\n",
    "    train_generator,\n",
    "    steps_per_epoch=train_generator.samples // batch_size,\n",
    "    validation_data=test_generator,\n",
    "    validation_steps=test_generator.samples // batch_size,\n",
    "    epochs=epochs,\n",
    "    callbacks=callbacks\n",
    ")\n"
   ]
  },
  {
   "cell_type": "code",
   "execution_count": 9,
   "metadata": {},
   "outputs": [
    {
     "name": "stdout",
     "output_type": "stream",
     "text": [
      "112/112 [==============================] - 2s 21ms/step - loss: 1.7118 - accuracy: 0.3058\n",
      "Test Accuracy: 0.3058035671710968\n"
     ]
    }
   ],
   "source": [
    "test_loss, test_acc = model.evaluate(test_generator, steps=test_generator.samples // batch_size)\n",
    "print(\"Test Accuracy:\", test_acc)\n",
    "\n",
    "model.save('fer2013emotionmodel.keras')\n"
   ]
  },
  {
   "cell_type": "code",
   "execution_count": 29,
   "metadata": {},
   "outputs": [
    {
     "name": "stdout",
     "output_type": "stream",
     "text": [
      "1/1 [==============================] - 0s 21ms/step\n",
      "Predicted Emotion Class: 0\n"
     ]
    }
   ],
   "source": [
    "from tensorflow.keras.preprocessing import image\n",
    "\n",
    "def load_and_preprocess_image(img_path):\n",
    "    img = image.load_img(img_path, target_size=(img_width, img_height), color_mode='rgb')\n",
    "    img_array = image.img_to_array(img)\n",
    "    img_array = img_array / 255.0  \n",
    "    img_array = np.expand_dims(img_array, axis=0)  \n",
    "    return img_array\n",
    "\n",
    "img_path = os.path.expanduser('/Users/joshfleming/Python/archive/test/angry/PrivateTest_1221822.jpg')\n",
    "new_img = load_and_preprocess_image(img_path)\n",
    "prediction = model.predict(new_img)\n",
    "predicted_class = np.argmax(prediction)\n",
    "print(\"Predicted Emotion Class:\", predicted_class)\n"
   ]
  },
  {
   "cell_type": "code",
   "execution_count": 18,
   "metadata": {},
   "outputs": [
    {
     "name": "stdout",
     "output_type": "stream",
     "text": [
      "Epoch 43/70\n"
     ]
    },
    {
     "name": "stderr",
     "output_type": "stream",
     "text": [
      "2025-02-04 10:25:04.829158: I tensorflow/core/grappler/optimizers/custom_graph_optimizer_registry.cc:114] Plugin optimizer for device_type GPU is enabled.\n"
     ]
    },
    {
     "name": "stdout",
     "output_type": "stream",
     "text": [
      "448/448 [==============================] - ETA: 0s - loss: 5.3317 - accuracy: 0.2208"
     ]
    },
    {
     "name": "stderr",
     "output_type": "stream",
     "text": [
      "2025-02-04 10:25:49.873341: I tensorflow/core/grappler/optimizers/custom_graph_optimizer_registry.cc:114] Plugin optimizer for device_type GPU is enabled.\n"
     ]
    },
    {
     "name": "stdout",
     "output_type": "stream",
     "text": [
      "448/448 [==============================] - 50s 102ms/step - loss: 5.3317 - accuracy: 0.2208 - val_loss: 1155.9432 - val_accuracy: 0.1381 - lr: 1.0000e-05\n",
      "Epoch 44/70\n",
      "448/448 [==============================] - 43s 96ms/step - loss: 4.8303 - accuracy: 0.2385 - val_loss: 6.5649 - val_accuracy: 0.2440 - lr: 1.0000e-05\n",
      "Epoch 45/70\n",
      "448/448 [==============================] - 43s 97ms/step - loss: 4.5814 - accuracy: 0.2540 - val_loss: 5.4319 - val_accuracy: 0.2822 - lr: 1.0000e-05\n",
      "Epoch 46/70\n",
      "448/448 [==============================] - 43s 96ms/step - loss: 4.4249 - accuracy: 0.2642 - val_loss: 4.7250 - val_accuracy: 0.3358 - lr: 1.0000e-05\n",
      "Epoch 47/70\n",
      "448/448 [==============================] - 43s 97ms/step - loss: 4.2956 - accuracy: 0.2769 - val_loss: 4.8332 - val_accuracy: 0.3566 - lr: 1.0000e-05\n",
      "Epoch 48/70\n",
      "448/448 [==============================] - 44s 98ms/step - loss: 4.1654 - accuracy: 0.2939 - val_loss: 4.6239 - val_accuracy: 0.3708 - lr: 1.0000e-05\n",
      "Epoch 49/70\n",
      "448/448 [==============================] - 44s 98ms/step - loss: 4.0627 - accuracy: 0.3108 - val_loss: 3.9567 - val_accuracy: 0.3899 - lr: 1.0000e-05\n",
      "Epoch 50/70\n",
      "448/448 [==============================] - 44s 97ms/step - loss: 3.9153 - accuracy: 0.3240 - val_loss: 3.6792 - val_accuracy: 0.4135 - lr: 1.0000e-05\n",
      "Epoch 51/70\n",
      "448/448 [==============================] - 44s 97ms/step - loss: 3.7844 - accuracy: 0.3422 - val_loss: 3.5498 - val_accuracy: 0.4283 - lr: 1.0000e-05\n",
      "Epoch 52/70\n",
      "448/448 [==============================] - 43s 97ms/step - loss: 3.7243 - accuracy: 0.3525 - val_loss: 3.5142 - val_accuracy: 0.4435 - lr: 1.0000e-05\n",
      "Epoch 53/70\n",
      "448/448 [==============================] - 44s 97ms/step - loss: 3.5953 - accuracy: 0.3651 - val_loss: 3.3601 - val_accuracy: 0.4446 - lr: 1.0000e-05\n",
      "Epoch 54/70\n",
      "448/448 [==============================] - 44s 99ms/step - loss: 3.5246 - accuracy: 0.3714 - val_loss: 3.2708 - val_accuracy: 0.4566 - lr: 1.0000e-05\n",
      "Epoch 55/70\n",
      "448/448 [==============================] - 43s 97ms/step - loss: 3.4265 - accuracy: 0.3845 - val_loss: 2.7861 - val_accuracy: 0.4580 - lr: 1.0000e-05\n",
      "Epoch 56/70\n",
      "448/448 [==============================] - 43s 96ms/step - loss: 3.3563 - accuracy: 0.3911 - val_loss: 3.1031 - val_accuracy: 0.4647 - lr: 1.0000e-05\n",
      "Epoch 57/70\n",
      "448/448 [==============================] - 43s 96ms/step - loss: 3.3278 - accuracy: 0.3913 - val_loss: 2.8577 - val_accuracy: 0.4727 - lr: 1.0000e-05\n",
      "Epoch 58/70\n",
      "448/448 [==============================] - 43s 97ms/step - loss: 3.1922 - accuracy: 0.4028 - val_loss: 2.7220 - val_accuracy: 0.4747 - lr: 1.0000e-05\n",
      "Epoch 59/70\n",
      "448/448 [==============================] - 43s 96ms/step - loss: 3.1098 - accuracy: 0.4103 - val_loss: 2.7994 - val_accuracy: 0.4785 - lr: 1.0000e-05\n",
      "Epoch 60/70\n",
      "448/448 [==============================] - 43s 97ms/step - loss: 3.0475 - accuracy: 0.4130 - val_loss: 2.8071 - val_accuracy: 0.4767 - lr: 1.0000e-05\n",
      "Epoch 61/70\n",
      "448/448 [==============================] - 43s 96ms/step - loss: 2.9715 - accuracy: 0.4258 - val_loss: 2.5531 - val_accuracy: 0.4936 - lr: 1.0000e-05\n",
      "Epoch 62/70\n",
      "448/448 [==============================] - 43s 96ms/step - loss: 2.9010 - accuracy: 0.4317 - val_loss: 2.3933 - val_accuracy: 0.4909 - lr: 1.0000e-05\n",
      "Epoch 63/70\n",
      "448/448 [==============================] - 43s 97ms/step - loss: 2.8522 - accuracy: 0.4304 - val_loss: 2.4878 - val_accuracy: 0.4951 - lr: 1.0000e-05\n",
      "Epoch 64/70\n",
      "448/448 [==============================] - 43s 96ms/step - loss: 2.8099 - accuracy: 0.4382 - val_loss: 2.6122 - val_accuracy: 0.5053 - lr: 1.0000e-05\n",
      "Epoch 65/70\n",
      "448/448 [==============================] - 43s 96ms/step - loss: 2.7472 - accuracy: 0.4425 - val_loss: 2.6137 - val_accuracy: 0.4973 - lr: 1.0000e-05\n",
      "Epoch 66/70\n",
      "448/448 [==============================] - 44s 97ms/step - loss: 2.6547 - accuracy: 0.4476 - val_loss: 2.4622 - val_accuracy: 0.5089 - lr: 1.0000e-05\n",
      "Epoch 67/70\n",
      "448/448 [==============================] - 43s 96ms/step - loss: 2.6100 - accuracy: 0.4556 - val_loss: 2.4856 - val_accuracy: 0.5049 - lr: 1.0000e-05\n",
      "Epoch 68/70\n",
      "448/448 [==============================] - 43s 97ms/step - loss: 2.5550 - accuracy: 0.4564 - val_loss: 2.4480 - val_accuracy: 0.5141 - lr: 5.0000e-06\n",
      "Epoch 69/70\n",
      "448/448 [==============================] - 43s 96ms/step - loss: 2.5203 - accuracy: 0.4609 - val_loss: 2.4878 - val_accuracy: 0.5144 - lr: 5.0000e-06\n",
      "Epoch 70/70\n",
      "448/448 [==============================] - 44s 97ms/step - loss: 2.4995 - accuracy: 0.4599 - val_loss: 2.3684 - val_accuracy: 0.5190 - lr: 5.0000e-06\n"
     ]
    }
   ],
   "source": [
    "base_model.trainable = True\n",
    "\n",
    "from tensorflow.keras.optimizers.legacy import Adam\n",
    "model.compile(optimizer=Adam(learning_rate=1e-5),\n",
    "              loss='categorical_crossentropy',\n",
    "              metrics=['accuracy'])\n",
    "\n",
    "fine_tune_epochs = 20\n",
    "total_epochs = epochs + fine_tune_epochs  \n",
    "history_fine = model.fit(\n",
    "    train_generator,\n",
    "    steps_per_epoch=train_generator.samples // batch_size,\n",
    "    validation_data=test_generator,\n",
    "    validation_steps=test_generator.samples // batch_size,\n",
    "    epochs=total_epochs,\n",
    "    initial_epoch=history.epoch[-1],  \n",
    "    callbacks=callbacks\n",
    ")"
   ]
  },
  {
   "cell_type": "code",
   "execution_count": 19,
   "metadata": {},
   "outputs": [
    {
     "name": "stdout",
     "output_type": "stream",
     "text": [
      "112/112 [==============================] - 2s 21ms/step - loss: 2.3684 - accuracy: 0.5190\n",
      "Fine-tuned Test Accuracy: 51.90%\n"
     ]
    }
   ],
   "source": [
    "test_loss, test_acc = model.evaluate(\n",
    "    test_generator, \n",
    "    steps=test_generator.samples // batch_size\n",
    ")\n",
    "print(\"Fine-tuned Test Accuracy: {:.2f}%\".format(test_acc * 100))\n"
   ]
  },
  {
   "cell_type": "code",
   "execution_count": 23,
   "metadata": {},
   "outputs": [
    {
     "data": {
      "image/png": "[encoded data removed]",
      "text/plain": [
       "<Figure size 1200x600 with 1 Axes>"
      ]
     },
     "metadata": {},
     "output_type": "display_data"
    }
   ],
   "source": [
    "acc = history_fine.history['accuracy']\n",
    "val_acc = history_fine.history['val_accuracy']\n",
    "loss = history_fine.history['loss']\n",
    "val_loss = history_fine.history['val_loss']\n",
    "\n",
    "epochs_range = range(len(acc))\n",
    "\n",
    "plt.figure(figsize=(12, 6))\n",
    "plt.subplot(1, 2, 1)\n",
    "plt.plot(epochs_range, acc, label='Training Accuracy')\n",
    "plt.plot(epochs_range, val_acc, label='Validation Accuracy')\n",
    "plt.legend(loc='lower right')\n",
    "plt.title('Fine-Tuned Training and Validation Accuracy');\n",
    "\n"
   ]
  }
 ],
 "metadata": {
  "kernelspec": {
   "display_name": "env",
   "language": "python",
   "name": "python3"
  },
  "language_info": {
   "codemirror_mode": {
    "name": "ipython",
    "version": 3
   },
   "file_extension": ".py",
   "mimetype": "text/x-python",
   "name": "python",
   "nbconvert_exporter": "python",
   "pygments_lexer": "ipython3",
   "version": "3.8.19"
  }
 },
 "nbformat": 4,
 "nbformat_minor": 2
}
